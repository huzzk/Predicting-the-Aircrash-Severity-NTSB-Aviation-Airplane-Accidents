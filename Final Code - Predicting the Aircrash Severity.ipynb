{
 "cells": [
  {
   "cell_type": "code",
   "execution_count": null,
   "id": "2843b677",
   "metadata": {},
   "outputs": [],
   "source": [
    "import numpy as np\n",
    "import pandas as pd\n",
    "import seaborn as sns\n",
    "from scipy.stats import zscore\n",
    "import matplotlib.pyplot as pt\n",
    "from sklearn.preprocessing import StandardScaler\n",
    "from sklearn.model_selection import KFold\n",
    "from sklearn.model_selection import GridSearchCV\n",
    "from sklearn.model_selection import cross_val_score\n",
    "from sklearn.model_selection import RandomizedSearchCV\n",
    "from sklearn.ensemble import GradientBoostingClassifier\n",
    "from xgboost import XGBClassifier\n",
    "from sklearn.pipeline import Pipeline\n",
    "from sklearn import metrics\n",
    "from sklearn.tree import DecisionTreeClassifier \n",
    "from sklearn.metrics import accuracy_score, confusion_matrix, classification_report, roc_curve, roc_auc_score\n",
    "from six import StringIO  \n",
    "from sklearn.tree import export_graphviz\n",
    "import pydotplus, graphviz\n",
    "from IPython.display import Image  \n",
    "from sklearn.preprocessing import LabelEncoder\n",
    "from sklearn.model_selection import train_test_split\n",
    "from sklearn.metrics import multilabel_confusion_matrix"
   ]
  },
  {
   "cell_type": "code",
   "execution_count": null,
   "id": "e7269e7d",
   "metadata": {
    "scrolled": true
   },
   "outputs": [],
   "source": [
    "#!pip install graphviz\n",
    "#brew install graphviz\n",
    "#!conda install python-graphviz"
   ]
  },
  {
   "cell_type": "code",
   "execution_count": null,
   "id": "0db9a1b4",
   "metadata": {},
   "outputs": [],
   "source": [
    "#!pip install pydotplus"
   ]
  },
  {
   "cell_type": "code",
   "execution_count": null,
   "id": "ab72dbc9",
   "metadata": {},
   "outputs": [],
   "source": [
    "#conda install -c anaconda graphviz   "
   ]
  },
  {
   "cell_type": "code",
   "execution_count": null,
   "id": "1362dba1",
   "metadata": {},
   "outputs": [],
   "source": [
    "data_train = pd.read_csv('/Users/huzaifkherani/Desktop/AML/Project/DATA/data.csv')\n",
    "data_test = pd.read_csv('/Users/huzaifkherani/Desktop/AML/Project/DATA/test.csv')"
   ]
  },
  {
   "cell_type": "code",
   "execution_count": null,
   "id": "55863650",
   "metadata": {},
   "outputs": [],
   "source": [
    "data_train.head()"
   ]
  },
  {
   "cell_type": "markdown",
   "id": "c335e7a8",
   "metadata": {},
   "source": [
    "# Exploratory Data Analysis"
   ]
  },
  {
   "cell_type": "code",
   "execution_count": null,
   "id": "37c5e54b",
   "metadata": {},
   "outputs": [],
   "source": [
    "data_train.info()"
   ]
  },
  {
   "cell_type": "code",
   "execution_count": null,
   "id": "d11b77e1",
   "metadata": {},
   "outputs": [],
   "source": [
    "data_train.isnull().sum() # Checking if there is any null value in the dataset"
   ]
  },
  {
   "cell_type": "code",
   "execution_count": null,
   "id": "0466fbfa",
   "metadata": {},
   "outputs": [],
   "source": [
    "data_train.drop(['Accident_ID'],axis=1,inplace=True)"
   ]
  },
  {
   "cell_type": "code",
   "execution_count": null,
   "id": "8839762f",
   "metadata": {},
   "outputs": [],
   "source": [
    "# Drop the target and check how the features correlate\n",
    "data_train.drop(\"Severity\", axis=1).corr()"
   ]
  },
  {
   "cell_type": "markdown",
   "id": "4d52211a",
   "metadata": {},
   "source": [
    "# Observations\n",
    "#### Days since inspection has a strong -ve correlation with Safety Score\n",
    "#### Turbulence in gforces has a strong -ve correlation with Control Metric\n",
    "#### Accident type code has a weak +ve correlation with the Safety Score\n",
    "#### Adverse Weather Metric has a strong -ve correlation with Accident Type Code\n",
    "#### Adverse Weather Metric has a weak +ve correlation with Max Elevation"
   ]
  },
  {
   "cell_type": "code",
   "execution_count": null,
   "id": "8bcf165f",
   "metadata": {},
   "outputs": [],
   "source": [
    "# Checking Corelation\n",
    "pt.figure(figsize = (15, 7))\n",
    "pt.subplot(1, 2, 1)\n",
    "pt.title(\"Train Data\")\n",
    "sns.heatmap(data_train.corr())\n",
    "pt.savefig('Correlation Heatmap.png')"
   ]
  },
  {
   "cell_type": "code",
   "execution_count": null,
   "id": "4e0d4550",
   "metadata": {},
   "outputs": [],
   "source": [
    "inspec = data_train[data_train[\"Days_Since_Inspection\"] == 1]\n",
    "inspec"
   ]
  },
  {
   "cell_type": "code",
   "execution_count": null,
   "id": "d80b8168",
   "metadata": {},
   "outputs": [],
   "source": [
    "pt.figure()\n",
    "pt.xticks(rotation = 90)\n",
    "sns.countplot(data_train['Severity'])\n",
    "pt.savefig('Severity vs Count graph.png')"
   ]
  },
  {
   "cell_type": "code",
   "execution_count": null,
   "id": "eb66850f",
   "metadata": {},
   "outputs": [],
   "source": [
    "# \"Accident_Type_Code\" and \"Severity\" are a Categorical variable hence, removing it \n",
    "pt.figure(figsize=(16,6))\n",
    "data_train.boxplot(column=['Safety_Score', 'Days_Since_Inspection', 'Total_Safety_Complaints', 'Control_Metric', \n",
    "                                   'Cabin_Temperature', 'Accident_Type_Code', 'Violations'])\n",
    "pt.savefig('Box plot 1.png')"
   ]
  },
  {
   "cell_type": "code",
   "execution_count": null,
   "id": "2d5709af",
   "metadata": {},
   "outputs": [],
   "source": [
    "pt.figure(figsize=(12,6))\n",
    "data_train.boxplot(column=['Max_Elevation'])\n",
    "pt.savefig('Boxplot 2.png')"
   ]
  },
  {
   "cell_type": "code",
   "execution_count": null,
   "id": "459e6a72",
   "metadata": {},
   "outputs": [],
   "source": [
    "pt.figure(figsize=(12,6))\n",
    "data_train.boxplot(column=['Turbulence_In_gforces', 'Adverse_Weather_Metric'])\n",
    "pt.savefig('Boxplot 3.png')"
   ]
  },
  {
   "cell_type": "code",
   "execution_count": null,
   "id": "ff61a8a5",
   "metadata": {},
   "outputs": [],
   "source": [
    "data_train.info()"
   ]
  },
  {
   "cell_type": "code",
   "execution_count": null,
   "id": "426b3296",
   "metadata": {},
   "outputs": [],
   "source": [
    "data_num = pd.DataFrame(data_train, columns = data_train.columns[data_train.dtypes == 'float64']) \n",
    "data_num.head()"
   ]
  },
  {
   "cell_type": "code",
   "execution_count": null,
   "id": "cb0422c1",
   "metadata": {},
   "outputs": [],
   "source": [
    "# Applying zscore"
   ]
  },
  {
   "cell_type": "code",
   "execution_count": null,
   "id": "51d431b0",
   "metadata": {},
   "outputs": [],
   "source": [
    "data_num=data_num.apply(zscore)"
   ]
  },
  {
   "cell_type": "code",
   "execution_count": null,
   "id": "a6fcab91",
   "metadata": {},
   "outputs": [],
   "source": [
    "data_num.head()"
   ]
  },
  {
   "cell_type": "markdown",
   "id": "26925a92",
   "metadata": {},
   "source": [
    "# Removing all records with z-score greater and lesser than 3 and -3 respectively."
   ]
  },
  {
   "cell_type": "code",
   "execution_count": null,
   "id": "c92f4cc4",
   "metadata": {},
   "outputs": [],
   "source": [
    "floats = data_num.columns[data_num.dtypes == 'float64']\n",
    "for columns in floats:\n",
    "    indexNames_larger = data_num[data_num[columns]>3].index\n",
    "    indexNames_lesser = data_num[data_num[columns]<-3].index\n",
    "    # Delete these row indexes from dataFrame\n",
    "    data_num.drop(indexNames_larger , inplace=True)\n",
    "    data_num.drop(indexNames_lesser , inplace=True)\n",
    "    data_train.drop(indexNames_larger , inplace=True)\n",
    "    data_train.drop(indexNames_lesser , inplace=True)"
   ]
  },
  {
   "cell_type": "code",
   "execution_count": null,
   "id": "c6acc7a4",
   "metadata": {},
   "outputs": [],
   "source": [
    "data_num.info()"
   ]
  },
  {
   "cell_type": "markdown",
   "id": "33784293",
   "metadata": {},
   "source": [
    "# 493 records were removed as they were considered outliers"
   ]
  },
  {
   "cell_type": "markdown",
   "id": "98c82bf3",
   "metadata": {},
   "source": [
    "# Merging the scaled columns back to the original dataframe"
   ]
  },
  {
   "cell_type": "code",
   "execution_count": null,
   "id": "0fa28185",
   "metadata": {},
   "outputs": [],
   "source": [
    "data_train.drop(data_train.columns[data_train.dtypes == 'float64'],axis=1,inplace=True)"
   ]
  },
  {
   "cell_type": "code",
   "execution_count": null,
   "id": "5af3ff9a",
   "metadata": {},
   "outputs": [],
   "source": [
    "data_train.head()"
   ]
  },
  {
   "cell_type": "code",
   "execution_count": null,
   "id": "b08edbca",
   "metadata": {},
   "outputs": [],
   "source": [
    "for column in data_num.columns:\n",
    "    data_train[column]=data_num[column]"
   ]
  },
  {
   "cell_type": "code",
   "execution_count": null,
   "id": "18de85ec",
   "metadata": {},
   "outputs": [],
   "source": [
    "data_train.head()"
   ]
  },
  {
   "cell_type": "markdown",
   "id": "41862d53",
   "metadata": {},
   "source": [
    "# Label Encoding the Target Column"
   ]
  },
  {
   "cell_type": "code",
   "execution_count": null,
   "id": "094e599f",
   "metadata": {},
   "outputs": [],
   "source": [
    "data_train['Severity'].unique()"
   ]
  },
  {
   "cell_type": "code",
   "execution_count": null,
   "id": "5de25ae0",
   "metadata": {},
   "outputs": [],
   "source": [
    "encoder=LabelEncoder()\n",
    "data_train['Severity']=encoder.fit_transform(data_train['Severity'])"
   ]
  },
  {
   "cell_type": "code",
   "execution_count": null,
   "id": "510a5a6b",
   "metadata": {},
   "outputs": [],
   "source": [
    "data_train.head()"
   ]
  },
  {
   "cell_type": "code",
   "execution_count": null,
   "id": "f11a9b86",
   "metadata": {},
   "outputs": [],
   "source": [
    "# Checking the unique values for dependent Variable (Severity)\n",
    "data_train.Severity.unique()"
   ]
  },
  {
   "cell_type": "code",
   "execution_count": null,
   "id": "30f77733",
   "metadata": {},
   "outputs": [],
   "source": [
    "# Checking the Unique Values in Accident_Type_Code\n",
    "data_train.Accident_Type_Code.unique()"
   ]
  },
  {
   "cell_type": "code",
   "execution_count": null,
   "id": "1f1d493d",
   "metadata": {},
   "outputs": [],
   "source": [
    "# Checking the Unqiue Values in Violations\n",
    "data_train.Violations.unique()"
   ]
  },
  {
   "cell_type": "code",
   "execution_count": null,
   "id": "575e7270",
   "metadata": {},
   "outputs": [],
   "source": [
    "# Checking the Unqiue Values in days since inspection\n",
    "data_train.Days_Since_Inspection.unique()"
   ]
  },
  {
   "cell_type": "code",
   "execution_count": null,
   "id": "0578a6ef",
   "metadata": {},
   "outputs": [],
   "source": [
    "data_train['Severity'].describe()\n",
    "# A description (4 level factor) on the severity of the crash"
   ]
  },
  {
   "cell_type": "code",
   "execution_count": null,
   "id": "32b237f9",
   "metadata": {},
   "outputs": [],
   "source": [
    "data_train['Safety_Score'].describe() \n",
    "# It gives a measure of how safe the plane was deemed to be."
   ]
  },
  {
   "cell_type": "code",
   "execution_count": null,
   "id": "ebcab33d",
   "metadata": {},
   "outputs": [],
   "source": [
    "data_train['Days_Since_Inspection'].describe() \n",
    "# It gives measure of how long the plane without inspection before incident"
   ]
  },
  {
   "cell_type": "code",
   "execution_count": null,
   "id": "908fb585",
   "metadata": {},
   "outputs": [],
   "source": [
    "data_train['Total_Safety_Complaints'].describe()\n",
    "# No. of complaints from mechanics prior to accident."
   ]
  },
  {
   "cell_type": "code",
   "execution_count": null,
   "id": "cd6c2b15",
   "metadata": {},
   "outputs": [],
   "source": [
    "data_train['Control_Metric'].describe()\n",
    "# An estimation of how much control the pilot had during the incident given the factors at play."
   ]
  },
  {
   "cell_type": "code",
   "execution_count": null,
   "id": "aa9e73eb",
   "metadata": {},
   "outputs": [],
   "source": [
    "data_train['Turbulence_In_gforces'].describe()\n",
    "# Recorded turbulence experienced at the time of accident."
   ]
  },
  {
   "cell_type": "code",
   "execution_count": null,
   "id": "bf3872e3",
   "metadata": {},
   "outputs": [],
   "source": [
    "data_train['Cabin_Temperature'].describe()\n",
    "# Last recorded temp before incident."
   ]
  },
  {
   "cell_type": "code",
   "execution_count": null,
   "id": "f45dcde5",
   "metadata": {},
   "outputs": [],
   "source": [
    "data_train['Max_Elevation'].describe()\n",
    "# Height from the ground in mts."
   ]
  },
  {
   "cell_type": "code",
   "execution_count": null,
   "id": "0aae81c5",
   "metadata": {},
   "outputs": [],
   "source": [
    "data_train['Violations'].describe()\n",
    "# Number of Violations aircraft received during inspection."
   ]
  },
  {
   "cell_type": "code",
   "execution_count": null,
   "id": "70556200",
   "metadata": {},
   "outputs": [],
   "source": [
    "sns.barplot(x = \"Days_Since_Inspection\", y = \"Severity\", data = data_train)\n",
    "pt.savefig('Days since inspection vs Severity.png')"
   ]
  },
  {
   "cell_type": "code",
   "execution_count": null,
   "id": "c5afb014",
   "metadata": {},
   "outputs": [],
   "source": [
    "sns.barplot(x = \"Accident_Type_Code\", y = \"Severity\", data = data_train)\n",
    "pt.savefig('Accident type code vs Severity.png')"
   ]
  },
  {
   "cell_type": "markdown",
   "id": "ceecfb6c",
   "metadata": {},
   "source": [
    "# Feature Engineering"
   ]
  },
  {
   "cell_type": "code",
   "execution_count": null,
   "id": "194417ad",
   "metadata": {},
   "outputs": [],
   "source": [
    "data_train['Total_Safety_Complaints'] = np.power(2, data_train['Total_Safety_Complaints'])\n",
    "data_train['Days_Since_Inspection'] = np.power(2, data_train['Days_Since_Inspection'])\n",
    "data_train['Safety_Score'] = np.power(2, data_train['Safety_Score'])"
   ]
  },
  {
   "cell_type": "code",
   "execution_count": null,
   "id": "1b945d47",
   "metadata": {},
   "outputs": [],
   "source": [
    "X=data_train.drop(['Severity'],axis=1)"
   ]
  },
  {
   "cell_type": "code",
   "execution_count": null,
   "id": "352579b4",
   "metadata": {},
   "outputs": [],
   "source": [
    "y=data_train['Severity']"
   ]
  },
  {
   "cell_type": "markdown",
   "id": "82a86a17",
   "metadata": {},
   "source": [
    "# Splitting Data into Train and Test"
   ]
  },
  {
   "cell_type": "code",
   "execution_count": null,
   "id": "903e87b4",
   "metadata": {},
   "outputs": [],
   "source": [
    "# Split dataset into training set and Validation set\n",
    "X_train, X_test, y_train, y_test = train_test_split(X, y, test_size=0.1, random_state=1) # 90% training and 10% test\n"
   ]
  },
  {
   "cell_type": "code",
   "execution_count": null,
   "id": "36f86c35",
   "metadata": {},
   "outputs": [],
   "source": [
    "print(X_train.shape)\n",
    "print(X_test.shape)"
   ]
  },
  {
   "cell_type": "markdown",
   "id": "bbaa11e3",
   "metadata": {},
   "source": [
    "# Decision Tree"
   ]
  },
  {
   "cell_type": "code",
   "execution_count": null,
   "id": "b59db2fa",
   "metadata": {},
   "outputs": [],
   "source": [
    "#making the instance\n",
    "from sklearn.model_selection import GridSearchCV\n",
    "model= DecisionTreeClassifier(random_state=1234)\n",
    "\n",
    "#Hyper Parameters Set\n",
    "param_grid = {'max_features': ['auto', 'sqrt', 'log2'],\n",
    "          'min_samples_split': [5,10,15,20,25,50,100], \n",
    "          'min_samples_leaf':[5,6,7,8,9,10,11],\n",
    "             'max_depth':[5,10,15,25,100],\n",
    "             'criterion':['gini','entropy']}\n",
    "\n",
    "\n",
    "# Create grid search object\n",
    "clf1 = GridSearchCV(estimator=model, param_grid=param_grid, n_jobs=-1, cv=5)\n",
    "\n",
    "# Fit on data\n",
    "best_clf_dt = clf1.fit(X_train, y_train)\n",
    "\n",
    "#Predict\n",
    "predictions = best_clf_dt.predict(X_test)\n",
    "\n",
    "print(\"Accuracy\", accuracy_score(y_test,predictions))\n",
    "print(\"CLASSIFICATION - REPORT \\n\")\n",
    "print(\"Confusion matrix \\n\",confusion_matrix(y_test,predictions))\n",
    "print(classification_report(y_test,predictions))"
   ]
  },
  {
   "cell_type": "code",
   "execution_count": null,
   "id": "47b76f4d",
   "metadata": {},
   "outputs": [],
   "source": [
    "clf1.best_estimator_"
   ]
  },
  {
   "cell_type": "code",
   "execution_count": null,
   "id": "9d61461d",
   "metadata": {},
   "outputs": [],
   "source": [
    "dot_data = StringIO()  \n",
    "export_graphviz(clf1.best_estimator_, out_file=dot_data, filled=True,rounded=True,\n",
    "                feature_names=X.columns,\n",
    "                class_names=['Highly_Fatal_And_Damaging','Significant_Damage_And_Serious_Injuries', 'Minor_Damage_And_Injuries','Significant_Damage_And_Fatalities' ]) \n",
    "                 \n",
    "graph = pydotplus.graph_from_dot_data(dot_data.getvalue())\n",
    "Image(graph.create_png())\n"
   ]
  },
  {
   "cell_type": "markdown",
   "id": "6622bf66",
   "metadata": {},
   "source": [
    "# Random Forest"
   ]
  },
  {
   "cell_type": "code",
   "execution_count": null,
   "id": "335df62c",
   "metadata": {},
   "outputs": [],
   "source": [
    "from sklearn.ensemble import RandomForestClassifier\n",
    "\n",
    "#making the instance\n",
    "model= RandomForestClassifier(random_state=1234)\n",
    "\n",
    "#Hyper Parameters Set\n",
    "param_grid = {'criterion':['gini','entropy'],\n",
    "          'n_estimators':[1,2,3,4,5],\n",
    "          'min_samples_leaf':[1,2,3],\n",
    "          'min_samples_split':[3,4,5,6,7]}\n",
    "\n",
    "# Create grid search object\n",
    "clf = GridSearchCV(model, param_grid=param_grid, n_jobs=-1, cv=5)\n",
    "\n",
    "# Fit on data\n",
    "best_clf_rf = clf.fit(X_train, y_train)\n",
    "\n",
    "#Predict\n",
    "predictions = best_clf_rf.predict(X_test)\n",
    "\n",
    "#Check Prediction Score\n",
    "print(\"Accuracy of Random Forest: \",accuracy_score(y_test, predictions))\n",
    "\n",
    "#Print Classification Report\n",
    "print(\"Confusion matrix \\n\",confusion_matrix(y_test,predictions))\n",
    "print(classification_report(y_test,predictions))"
   ]
  },
  {
   "cell_type": "code",
   "execution_count": null,
   "id": "e06c35ef",
   "metadata": {},
   "outputs": [],
   "source": [
    "clf.best_estimator_"
   ]
  },
  {
   "cell_type": "markdown",
   "id": "cc4b8412",
   "metadata": {},
   "source": [
    "# Gradient Boosting"
   ]
  },
  {
   "cell_type": "code",
   "execution_count": null,
   "id": "f1fea8e2",
   "metadata": {},
   "outputs": [],
   "source": [
    "param_grid = {\"n_estimators\":[10,20,40,100],'max_depth':[3,4,5,6]}"
   ]
  },
  {
   "cell_type": "code",
   "execution_count": null,
   "id": "efeb3b19",
   "metadata": {},
   "outputs": [],
   "source": [
    "gb_model = GradientBoostingClassifier()"
   ]
  },
  {
   "cell_type": "code",
   "execution_count": null,
   "id": "ae6a8637",
   "metadata": {},
   "outputs": [],
   "source": [
    "grid = GridSearchCV(gb_model,param_grid)"
   ]
  },
  {
   "cell_type": "code",
   "execution_count": null,
   "id": "b0fbce44",
   "metadata": {},
   "outputs": [],
   "source": [
    "grid.fit(X_train,y_train)"
   ]
  },
  {
   "cell_type": "code",
   "execution_count": null,
   "id": "21428578",
   "metadata": {},
   "outputs": [],
   "source": [
    "grid.best_params_"
   ]
  },
  {
   "cell_type": "code",
   "execution_count": null,
   "id": "8e5ab886",
   "metadata": {},
   "outputs": [],
   "source": [
    "predictions = grid.predict(X_test)"
   ]
  },
  {
   "cell_type": "code",
   "execution_count": null,
   "id": "56dcfa3c",
   "metadata": {},
   "outputs": [],
   "source": [
    "predictions"
   ]
  },
  {
   "cell_type": "code",
   "execution_count": null,
   "id": "7073da75",
   "metadata": {},
   "outputs": [],
   "source": [
    "print(classification_report(y_test,predictions))"
   ]
  },
  {
   "cell_type": "code",
   "execution_count": null,
   "id": "a3c7230d",
   "metadata": {},
   "outputs": [],
   "source": [
    "grid.best_estimator_.feature_importances_"
   ]
  },
  {
   "cell_type": "code",
   "execution_count": null,
   "id": "73297227",
   "metadata": {},
   "outputs": [],
   "source": [
    "# example of grid searching key hyperparameters for gradient boosting on a classification dataset\n",
    "from sklearn.datasets import make_classification\n",
    "from sklearn.model_selection import RepeatedStratifiedKFold\n",
    "from sklearn.model_selection import GridSearchCV\n",
    "from sklearn.ensemble import GradientBoostingClassifier\n",
    "# define dataset\n",
    "X, y = make_classification(n_samples=1000, n_features=20, n_informative=15, n_redundant=5, random_state=7)\n",
    "# define the model with default hyperparameters\n",
    "model = GradientBoostingClassifier()\n",
    "# define the grid of values to search\n",
    "grid = dict()\n",
    "grid['n_estimators'] = [10, 50, 100, 500]\n",
    "grid['learning_rate'] = [0.0001, 0.001, 0.01, 0.1, 1.0]\n",
    "grid['subsample'] = [0.5, 0.7, 1.0]\n",
    "grid['max_depth'] = [3, 7, 9]\n",
    "# define the evaluation procedure\n",
    "cv = RepeatedStratifiedKFold(n_splits=10, n_repeats=3, random_state=1)\n",
    "# define the grid search procedure\n",
    "grid_search = GridSearchCV(estimator=model, param_grid=grid, n_jobs=-1, cv=cv, scoring='accuracy')\n",
    "# execute the grid search\n",
    "grid_result = grid_search.fit(X, y)\n",
    "# summarize the best score and configuration\n",
    "print(\"Best: %f using %s\" % (grid_result.best_score_, grid_result.best_params_))\n",
    "# summarize all scores that were evaluated\n",
    "means = grid_result.cv_results_['mean_test_score']\n",
    "stds = grid_result.cv_results_['std_test_score']\n",
    "params = grid_result.cv_results_['params']\n",
    "for mean, stdev, param in zip(means, stds, params):\n",
    "    print(\"%f (%f) with: %r\" % (mean, stdev, param))"
   ]
  },
  {
   "cell_type": "markdown",
   "id": "be16a774",
   "metadata": {},
   "source": [
    "# Extreme Gradient Boosting"
   ]
  },
  {
   "cell_type": "code",
   "execution_count": null,
   "id": "37f439cc",
   "metadata": {},
   "outputs": [],
   "source": [
    "from sklearn.pipeline import Pipeline\n",
    "from xgboost import XGBClassifier\n",
    "from sklearn.model_selection import RandomizedSearchCV\n",
    "\n",
    "#Pipeline\n",
    "pipe_XGB = Pipeline([('XGB', XGBClassifier())]) \n",
    "\n",
    "#Parameter-grid\n",
    "param_grid = {'XGB__learning_rate':[0.1,0.2],'XGB__max_depth' :[5,10], 'XGB__gamma':[0.1,0.3]} \n",
    " \n",
    "#Using RandomSearchCV\n",
    "Random_XGB = RandomizedSearchCV( pipe_XGB , param_distributions=param_grid, cv= 10, n_iter=3) \n",
    "#Fitting the data in the model\n",
    "Random_XGB.fit(X_train, y_train)\n",
    "\n",
    "print(\" Best cross-validation score obtained is: {:.2f}\". format( Random_XGB.best_score_)) \n",
    "print(\" Best parameters as part of Gridsearch is: \", Random_XGB.best_params_) \n",
    "print(\" Train set score obtained is: {:.2f}\". format( Random_XGB.score( X_train, y_train)))\n",
    "print(\" Test set score obtained is: {:.2f}\". format( Random_XGB.score( X_test, y_test)))"
   ]
  },
  {
   "cell_type": "code",
   "execution_count": null,
   "id": "6263ca13",
   "metadata": {},
   "outputs": [],
   "source": [
    "y_pred=Random_XGB.predict(X_test)"
   ]
  },
  {
   "cell_type": "code",
   "execution_count": null,
   "id": "cb54a88c",
   "metadata": {},
   "outputs": [],
   "source": [
    "accuracy_score=metrics.accuracy_score(y_test,y_pred)\n",
    "percision_score=metrics.precision_score(y_test,y_pred,average='macro')\n",
    "recall_score=metrics.recall_score(y_test,y_pred,average='macro')\n",
    "f1_score=metrics.f1_score(y_test,y_pred,average='macro')\n",
    "print(\"The Accuracy of this model is {0:.2f}%\".format(accuracy_score*100))\n",
    "print(\"The Percision of this model is {0:.2f}%\".format(percision_score*100))\n",
    "print(\"The Recall score of this model is {0:.2f}%\".format(recall_score*100))\n",
    "print(\"The f1 score of this model is {0:.2f}%\".format(f1_score*100))"
   ]
  },
  {
   "cell_type": "code",
   "execution_count": null,
   "id": "93f97d34",
   "metadata": {},
   "outputs": [],
   "source": [
    "Random_XGB.cv_results_"
   ]
  },
  {
   "cell_type": "markdown",
   "id": "ca172f96",
   "metadata": {},
   "source": [
    "# Predicting the test data"
   ]
  },
  {
   "cell_type": "code",
   "execution_count": null,
   "id": "665a1e74",
   "metadata": {},
   "outputs": [],
   "source": [
    "data_test.drop(['Accident_ID'],axis=1,inplace=True)\n",
    "data_test.head()"
   ]
  },
  {
   "cell_type": "code",
   "execution_count": null,
   "id": "f2985072",
   "metadata": {},
   "outputs": [],
   "source": [
    "data_test.info()"
   ]
  },
  {
   "cell_type": "code",
   "execution_count": null,
   "id": "2cbf3f0f",
   "metadata": {},
   "outputs": [],
   "source": [
    "num = pd.DataFrame(data_test, columns =data_test.columns[data_test.dtypes == 'float64']) \n",
    "num.head()"
   ]
  },
  {
   "cell_type": "code",
   "execution_count": null,
   "id": "a4d467a0",
   "metadata": {},
   "outputs": [],
   "source": [
    "num=num.apply(zscore)"
   ]
  },
  {
   "cell_type": "code",
   "execution_count": null,
   "id": "e95cc9e9",
   "metadata": {},
   "outputs": [],
   "source": [
    "data_test.drop(data_test.columns[data_test.dtypes == 'float64'],axis=1,inplace=True)\n",
    "data_test.head()"
   ]
  },
  {
   "cell_type": "code",
   "execution_count": null,
   "id": "013f8346",
   "metadata": {},
   "outputs": [],
   "source": [
    "for column in num.columns:\n",
    "    data_test[column]=num[column]"
   ]
  },
  {
   "cell_type": "code",
   "execution_count": null,
   "id": "aef539a5",
   "metadata": {},
   "outputs": [],
   "source": [
    "data_test.head()"
   ]
  },
  {
   "cell_type": "code",
   "execution_count": null,
   "id": "036eea46",
   "metadata": {},
   "outputs": [],
   "source": [
    "data_test['Total_Safety_Complaints'] = np.power(2, data_test['Total_Safety_Complaints'])\n",
    "data_test['Days_Since_Inspection'] = np.power(2, data_test['Days_Since_Inspection'])\n",
    "data_test['Safety_Score'] = np.power(2, data_test['Safety_Score'])"
   ]
  },
  {
   "cell_type": "markdown",
   "id": "35a0dda2",
   "metadata": {},
   "source": [
    "# Predictions using Extreme Gradient Boosting\n"
   ]
  },
  {
   "cell_type": "code",
   "execution_count": null,
   "id": "2d15939d",
   "metadata": {},
   "outputs": [],
   "source": [
    "testPredictions=Random_XGB.predict(data_test)"
   ]
  },
  {
   "cell_type": "code",
   "execution_count": null,
   "id": "618ea06b",
   "metadata": {},
   "outputs": [],
   "source": [
    "data_test['Severity']=encoder.inverse_transform(testPredictions)"
   ]
  },
  {
   "cell_type": "code",
   "execution_count": null,
   "id": "1295b0a4",
   "metadata": {},
   "outputs": [],
   "source": [
    "data_test.head()"
   ]
  },
  {
   "cell_type": "code",
   "execution_count": null,
   "id": "c85600a9",
   "metadata": {},
   "outputs": [],
   "source": [
    "final_test = pd.read_csv('/Users/huzaifkherani/Desktop/AML/Project/DATA/test.csv')"
   ]
  },
  {
   "cell_type": "code",
   "execution_count": null,
   "id": "8e95ec80",
   "metadata": {},
   "outputs": [],
   "source": [
    "final_test['Severity']=data_test['Severity']"
   ]
  },
  {
   "cell_type": "code",
   "execution_count": null,
   "id": "95cc9062",
   "metadata": {},
   "outputs": [],
   "source": [
    "final_test.head()"
   ]
  },
  {
   "cell_type": "code",
   "execution_count": null,
   "id": "02e79735",
   "metadata": {},
   "outputs": [],
   "source": []
  }
 ],
 "metadata": {
  "kernelspec": {
   "display_name": "Python 3 (ipykernel)",
   "language": "python",
   "name": "python3"
  },
  "language_info": {
   "codemirror_mode": {
    "name": "ipython",
    "version": 3
   },
   "file_extension": ".py",
   "mimetype": "text/x-python",
   "name": "python",
   "nbconvert_exporter": "python",
   "pygments_lexer": "ipython3",
   "version": "3.9.13"
  }
 },
 "nbformat": 4,
 "nbformat_minor": 5
}
